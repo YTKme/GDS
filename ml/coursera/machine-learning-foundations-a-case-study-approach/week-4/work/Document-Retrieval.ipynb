{
 "cells": [
  {
   "cell_type": "markdown",
   "metadata": {},
   "source": [
    "# Document Retrieval From Wikipedia Data"
   ]
  },
  {
   "cell_type": "markdown",
   "metadata": {},
   "source": [
    "## Fire Up GraphLab Create\n",
    "(See [Getting Started with SFrames](../../week-1/work/Getting-Started-With-SFrames.ipynb) for setup instructions)"
   ]
  },
  {
   "cell_type": "code",
   "execution_count": 1,
   "metadata": {
    "collapsed": false,
    "jupyter": {
     "outputs_hidden": false
    }
   },
   "outputs": [],
   "source": [
    "# Ignore GraphLab\n",
    "# import graphlab\n",
    "\n",
    "# Use Pandas\n",
    "import pandas as pd\n",
    "# User NumPy\n",
    "import numpy as np"
   ]
  },
  {
   "cell_type": "code",
   "execution_count": null,
   "metadata": {},
   "outputs": [],
   "source": [
    "# Limit number of worker processes. This preserves system memory, which prevents hosted notebooks from crashing.\n",
    "# graphlab.set_runtime_config('GRAPHLAB_DEFAULT_NUM_PYLAMBDA_WORKERS', 4)"
   ]
  },
  {
   "cell_type": "markdown",
   "metadata": {},
   "source": [
    "# Load Some Text Data - From Wikipedia, Pages On People"
   ]
  },
  {
   "cell_type": "code",
   "execution_count": 2,
   "metadata": {
    "collapsed": false,
    "jupyter": {
     "outputs_hidden": false
    }
   },
   "outputs": [],
   "source": [
    "# people = graphlab.SFrame('people_wiki.gl/')\n",
    "\n",
    "# Import the CSV (Comma Separated Value)\n",
    "people = pd.read_csv(\"people_wiki.csv\")"
   ]
  },
  {
   "cell_type": "markdown",
   "metadata": {},
   "source": [
    "Data contains: **link to wikipedia article**, **name of person**, **text of article**."
   ]
  },
  {
   "cell_type": "code",
   "execution_count": 3,
   "metadata": {
    "collapsed": false,
    "jupyter": {
     "outputs_hidden": false
    }
   },
   "outputs": [
    {
     "data": {
      "text/html": [
       "<div>\n",
       "<style scoped>\n",
       "    .dataframe tbody tr th:only-of-type {\n",
       "        vertical-align: middle;\n",
       "    }\n",
       "\n",
       "    .dataframe tbody tr th {\n",
       "        vertical-align: top;\n",
       "    }\n",
       "\n",
       "    .dataframe thead th {\n",
       "        text-align: right;\n",
       "    }\n",
       "</style>\n",
       "<table border=\"1\" class=\"dataframe\">\n",
       "  <thead>\n",
       "    <tr style=\"text-align: right;\">\n",
       "      <th></th>\n",
       "      <th>URI</th>\n",
       "      <th>name</th>\n",
       "      <th>text</th>\n",
       "    </tr>\n",
       "  </thead>\n",
       "  <tbody>\n",
       "    <tr>\n",
       "      <th>0</th>\n",
       "      <td>&lt;http://dbpedia.org/resource/Digby_Morrell&gt;</td>\n",
       "      <td>Digby Morrell</td>\n",
       "      <td>digby morrell born 10 october 1979 is a former...</td>\n",
       "    </tr>\n",
       "    <tr>\n",
       "      <th>1</th>\n",
       "      <td>&lt;http://dbpedia.org/resource/Alfred_J._Lewy&gt;</td>\n",
       "      <td>Alfred J. Lewy</td>\n",
       "      <td>alfred j lewy aka sandy lewy graduated from un...</td>\n",
       "    </tr>\n",
       "    <tr>\n",
       "      <th>2</th>\n",
       "      <td>&lt;http://dbpedia.org/resource/Harpdog_Brown&gt;</td>\n",
       "      <td>Harpdog Brown</td>\n",
       "      <td>harpdog brown is a singer and harmonica player...</td>\n",
       "    </tr>\n",
       "    <tr>\n",
       "      <th>3</th>\n",
       "      <td>&lt;http://dbpedia.org/resource/Franz_Rottensteiner&gt;</td>\n",
       "      <td>Franz Rottensteiner</td>\n",
       "      <td>franz rottensteiner born in waidmannsfeld lowe...</td>\n",
       "    </tr>\n",
       "    <tr>\n",
       "      <th>4</th>\n",
       "      <td>&lt;http://dbpedia.org/resource/G-Enka&gt;</td>\n",
       "      <td>G-Enka</td>\n",
       "      <td>henry krvits born 30 december 1974 in tallinn ...</td>\n",
       "    </tr>\n",
       "  </tbody>\n",
       "</table>\n",
       "</div>"
      ],
      "text/plain": [
       "                                                 URI                 name  \\\n",
       "0        <http://dbpedia.org/resource/Digby_Morrell>        Digby Morrell   \n",
       "1       <http://dbpedia.org/resource/Alfred_J._Lewy>       Alfred J. Lewy   \n",
       "2        <http://dbpedia.org/resource/Harpdog_Brown>        Harpdog Brown   \n",
       "3  <http://dbpedia.org/resource/Franz_Rottensteiner>  Franz Rottensteiner   \n",
       "4               <http://dbpedia.org/resource/G-Enka>               G-Enka   \n",
       "\n",
       "                                                text  \n",
       "0  digby morrell born 10 october 1979 is a former...  \n",
       "1  alfred j lewy aka sandy lewy graduated from un...  \n",
       "2  harpdog brown is a singer and harmonica player...  \n",
       "3  franz rottensteiner born in waidmannsfeld lowe...  \n",
       "4  henry krvits born 30 december 1974 in tallinn ...  "
      ]
     },
     "execution_count": 3,
     "metadata": {},
     "output_type": "execute_result"
    }
   ],
   "source": [
    "people.head()"
   ]
  },
  {
   "cell_type": "code",
   "execution_count": 4,
   "metadata": {
    "collapsed": false,
    "jupyter": {
     "outputs_hidden": false
    }
   },
   "outputs": [
    {
     "data": {
      "text/plain": [
       "59071"
      ]
     },
     "execution_count": 4,
     "metadata": {},
     "output_type": "execute_result"
    }
   ],
   "source": [
    "len(people)"
   ]
  },
  {
   "cell_type": "markdown",
   "metadata": {},
   "source": [
    "# Explore The Dataset, Checkout The Text"
   ]
  },
  {
   "cell_type": "markdown",
   "metadata": {},
   "source": [
    "## Exploring The Entry For President Obama"
   ]
  },
  {
   "cell_type": "code",
   "execution_count": 5,
   "metadata": {},
   "outputs": [],
   "source": [
    "obama = people[people['name'] == 'Barack Obama']"
   ]
  },
  {
   "cell_type": "code",
   "execution_count": 6,
   "metadata": {
    "collapsed": false,
    "jupyter": {
     "outputs_hidden": false
    }
   },
   "outputs": [
    {
     "data": {
      "text/html": [
       "<div>\n",
       "<style scoped>\n",
       "    .dataframe tbody tr th:only-of-type {\n",
       "        vertical-align: middle;\n",
       "    }\n",
       "\n",
       "    .dataframe tbody tr th {\n",
       "        vertical-align: top;\n",
       "    }\n",
       "\n",
       "    .dataframe thead th {\n",
       "        text-align: right;\n",
       "    }\n",
       "</style>\n",
       "<table border=\"1\" class=\"dataframe\">\n",
       "  <thead>\n",
       "    <tr style=\"text-align: right;\">\n",
       "      <th></th>\n",
       "      <th>URI</th>\n",
       "      <th>name</th>\n",
       "      <th>text</th>\n",
       "    </tr>\n",
       "  </thead>\n",
       "  <tbody>\n",
       "    <tr>\n",
       "      <th>35817</th>\n",
       "      <td>&lt;http://dbpedia.org/resource/Barack_Obama&gt;</td>\n",
       "      <td>Barack Obama</td>\n",
       "      <td>barack hussein obama ii brk husen bm born augu...</td>\n",
       "    </tr>\n",
       "  </tbody>\n",
       "</table>\n",
       "</div>"
      ],
      "text/plain": [
       "                                              URI          name  \\\n",
       "35817  <http://dbpedia.org/resource/Barack_Obama>  Barack Obama   \n",
       "\n",
       "                                                    text  \n",
       "35817  barack hussein obama ii brk husen bm born augu...  "
      ]
     },
     "execution_count": 6,
     "metadata": {},
     "output_type": "execute_result"
    }
   ],
   "source": [
    "obama"
   ]
  },
  {
   "cell_type": "code",
   "execution_count": 7,
   "metadata": {
    "collapsed": false,
    "jupyter": {
     "outputs_hidden": false
    }
   },
   "outputs": [
    {
     "data": {
      "text/plain": [
       "35817    barack hussein obama ii brk husen bm born augu...\n",
       "Name: text, dtype: object"
      ]
     },
     "execution_count": 7,
     "metadata": {},
     "output_type": "execute_result"
    }
   ],
   "source": [
    "obama['text']"
   ]
  },
  {
   "cell_type": "markdown",
   "metadata": {},
   "source": [
    "## Exploring The Entry For Actor George Clooney"
   ]
  },
  {
   "cell_type": "code",
   "execution_count": 8,
   "metadata": {
    "collapsed": false,
    "jupyter": {
     "outputs_hidden": false
    }
   },
   "outputs": [
    {
     "data": {
      "text/plain": [
       "38514    george timothy clooney born may 6 1961 is an a...\n",
       "Name: text, dtype: object"
      ]
     },
     "execution_count": 8,
     "metadata": {},
     "output_type": "execute_result"
    }
   ],
   "source": [
    "clooney = people[people['name'] == 'George Clooney']\n",
    "clooney['text']"
   ]
  },
  {
   "cell_type": "markdown",
   "metadata": {},
   "source": [
    "# Get The Word Counts For Obama Article"
   ]
  },
  {
   "cell_type": "markdown",
   "metadata": {},
   "source": [
    "## Helper"
   ]
  },
  {
   "cell_type": "code",
   "execution_count": 9,
   "metadata": {},
   "outputs": [
    {
     "name": "stdout",
     "output_type": "stream",
     "text": [
      "Obama Word Count Length: 273\n"
     ]
    }
   ],
   "source": [
    "def remove_punctuation(text):\n",
    "    \"\"\"Remove punctuation(s) from a line of string text\n",
    "    \n",
    "    Args:\n",
    "        text (str): The line of string text\n",
    "        \n",
    "    Returns:\n",
    "        A string for the line of text with punctuation(s) removed\n",
    "    \"\"\"\n",
    "    # Use the string library\n",
    "    import string\n",
    "    # Use `str.maketrans` to build a translation table\n",
    "    # Use `translate` and the translation table to remove punctuation\n",
    "    return text.translate(str.maketrans(\"\", \"\", string.punctuation))\n",
    "\n",
    "\n",
    "def word_count(text):\n",
    "    \"\"\"Count the occurrence of each word\n",
    "    \n",
    "    Args:\n",
    "        text (str): The line of string text\n",
    "        \n",
    "    Returns:\n",
    "        A dictionary of word(s) with a count\n",
    "    \"\"\"\n",
    "    # Split the `text` on space\n",
    "    word_list = text.split()\n",
    "    # Create a dictionary to store the word count\n",
    "    word_dict = {}\n",
    "    \n",
    "    # Loop through the list of word(s)\n",
    "    for word in word_list:\n",
    "        # If the word already exist, increment by 1\n",
    "        if word in word_dict:\n",
    "            word_dict[word] += 1\n",
    "        # Else add the new word with count of 1\n",
    "        else:\n",
    "            word_dict[word] = 1\n",
    "            \n",
    "    return word_dict\n",
    "\n",
    "\n",
    "# Create a new column `text_clean` from `text` with punctuation removed\n",
    "people[\"text_clean\"] = people[\"text\"].apply(remove_punctuation)\n",
    "\n",
    "# Get the 'Barack Obama' entry again\n",
    "obama = people[people['name'] == 'Barack Obama']\n",
    "# Get the word count for the `text_clean` column\n",
    "obama_word = word_count(obama['text_clean'].values[0])\n",
    "print(\"Obama Word Count Length: {}\".format(len(obama_word)))"
   ]
  },
  {
   "cell_type": "code",
   "execution_count": null,
   "metadata": {},
   "outputs": [],
   "source": [
    "# obama['word_count'] = graphlab.text_analytics.count_words(obama['text'])"
   ]
  },
  {
   "cell_type": "code",
   "execution_count": null,
   "metadata": {
    "collapsed": false,
    "jupyter": {
     "outputs_hidden": false
    }
   },
   "outputs": [],
   "source": [
    "# print obama['word_count']"
   ]
  },
  {
   "cell_type": "markdown",
   "metadata": {},
   "source": [
    "## Sort The Word Count For The Obama Article"
   ]
  },
  {
   "cell_type": "markdown",
   "metadata": {},
   "source": [
    "### Turning Dictonary Word Count To Table"
   ]
  },
  {
   "cell_type": "code",
   "execution_count": 10,
   "metadata": {},
   "outputs": [],
   "source": [
    "# obama_word_count_table = obama[['word_count']].stack('word_count', new_column_name = ['word','count'])\n",
    "\n",
    "# Create a DataFrame for the `obama_word`\n",
    "# Convert `obama_word` to a list of tuple\n",
    "# Construct the DataFrame with the `word` and `count` column\n",
    "obama_word_count_table = pd.DataFrame(list(obama_word.items()), columns=['word', 'count'])"
   ]
  },
  {
   "cell_type": "markdown",
   "metadata": {},
   "source": [
    "### Sorting the word counts to show most common words at the top"
   ]
  },
  {
   "cell_type": "code",
   "execution_count": 11,
   "metadata": {
    "collapsed": false,
    "jupyter": {
     "outputs_hidden": false
    }
   },
   "outputs": [
    {
     "data": {
      "text/html": [
       "<div>\n",
       "<style scoped>\n",
       "    .dataframe tbody tr th:only-of-type {\n",
       "        vertical-align: middle;\n",
       "    }\n",
       "\n",
       "    .dataframe tbody tr th {\n",
       "        vertical-align: top;\n",
       "    }\n",
       "\n",
       "    .dataframe thead th {\n",
       "        text-align: right;\n",
       "    }\n",
       "</style>\n",
       "<table border=\"1\" class=\"dataframe\">\n",
       "  <thead>\n",
       "    <tr style=\"text-align: right;\">\n",
       "      <th></th>\n",
       "      <th>word</th>\n",
       "      <th>count</th>\n",
       "    </tr>\n",
       "  </thead>\n",
       "  <tbody>\n",
       "    <tr>\n",
       "      <th>0</th>\n",
       "      <td>barack</td>\n",
       "      <td>1</td>\n",
       "    </tr>\n",
       "    <tr>\n",
       "      <th>1</th>\n",
       "      <td>hussein</td>\n",
       "      <td>1</td>\n",
       "    </tr>\n",
       "    <tr>\n",
       "      <th>2</th>\n",
       "      <td>obama</td>\n",
       "      <td>9</td>\n",
       "    </tr>\n",
       "    <tr>\n",
       "      <th>3</th>\n",
       "      <td>ii</td>\n",
       "      <td>1</td>\n",
       "    </tr>\n",
       "    <tr>\n",
       "      <th>4</th>\n",
       "      <td>brk</td>\n",
       "      <td>1</td>\n",
       "    </tr>\n",
       "  </tbody>\n",
       "</table>\n",
       "</div>"
      ],
      "text/plain": [
       "      word  count\n",
       "0   barack      1\n",
       "1  hussein      1\n",
       "2    obama      9\n",
       "3       ii      1\n",
       "4      brk      1"
      ]
     },
     "execution_count": 11,
     "metadata": {},
     "output_type": "execute_result"
    }
   ],
   "source": [
    "obama_word_count_table.head()"
   ]
  },
  {
   "cell_type": "code",
   "execution_count": 12,
   "metadata": {
    "collapsed": false,
    "jupyter": {
     "outputs_hidden": false
    }
   },
   "outputs": [
    {
     "data": {
      "text/html": [
       "<div>\n",
       "<style scoped>\n",
       "    .dataframe tbody tr th:only-of-type {\n",
       "        vertical-align: middle;\n",
       "    }\n",
       "\n",
       "    .dataframe tbody tr th {\n",
       "        vertical-align: top;\n",
       "    }\n",
       "\n",
       "    .dataframe thead th {\n",
       "        text-align: right;\n",
       "    }\n",
       "</style>\n",
       "<table border=\"1\" class=\"dataframe\">\n",
       "  <thead>\n",
       "    <tr style=\"text-align: right;\">\n",
       "      <th></th>\n",
       "      <th>word</th>\n",
       "      <th>count</th>\n",
       "    </tr>\n",
       "  </thead>\n",
       "  <tbody>\n",
       "    <tr>\n",
       "      <th>12</th>\n",
       "      <td>the</td>\n",
       "      <td>40</td>\n",
       "    </tr>\n",
       "    <tr>\n",
       "      <th>26</th>\n",
       "      <td>in</td>\n",
       "      <td>30</td>\n",
       "    </tr>\n",
       "    <tr>\n",
       "      <th>14</th>\n",
       "      <td>and</td>\n",
       "      <td>21</td>\n",
       "    </tr>\n",
       "    <tr>\n",
       "      <th>17</th>\n",
       "      <td>of</td>\n",
       "      <td>18</td>\n",
       "    </tr>\n",
       "    <tr>\n",
       "      <th>23</th>\n",
       "      <td>to</td>\n",
       "      <td>14</td>\n",
       "    </tr>\n",
       "    <tr>\n",
       "      <th>...</th>\n",
       "      <td>...</td>\n",
       "      <td>...</td>\n",
       "    </tr>\n",
       "    <tr>\n",
       "      <th>125</th>\n",
       "      <td>laureateduring</td>\n",
       "      <td>1</td>\n",
       "    </tr>\n",
       "    <tr>\n",
       "      <th>126</th>\n",
       "      <td>two</td>\n",
       "      <td>1</td>\n",
       "    </tr>\n",
       "    <tr>\n",
       "      <th>127</th>\n",
       "      <td>years</td>\n",
       "      <td>1</td>\n",
       "    </tr>\n",
       "    <tr>\n",
       "      <th>129</th>\n",
       "      <td>into</td>\n",
       "      <td>1</td>\n",
       "    </tr>\n",
       "    <tr>\n",
       "      <th>272</th>\n",
       "      <td>cuba</td>\n",
       "      <td>1</td>\n",
       "    </tr>\n",
       "  </tbody>\n",
       "</table>\n",
       "<p>273 rows × 2 columns</p>\n",
       "</div>"
      ],
      "text/plain": [
       "               word  count\n",
       "12              the     40\n",
       "26               in     30\n",
       "14              and     21\n",
       "17               of     18\n",
       "23               to     14\n",
       "..              ...    ...\n",
       "125  laureateduring      1\n",
       "126             two      1\n",
       "127           years      1\n",
       "129            into      1\n",
       "272            cuba      1\n",
       "\n",
       "[273 rows x 2 columns]"
      ]
     },
     "execution_count": 12,
     "metadata": {},
     "output_type": "execute_result"
    }
   ],
   "source": [
    "# obama_word_count_table.sort('count',ascending=False)\n",
    "\n",
    "# Sort DataFrame by `count` column\n",
    "obama_word_count_table.sort_values(['count'], ascending=False)"
   ]
  },
  {
   "cell_type": "markdown",
   "metadata": {},
   "source": [
    "Most common words include uninformative words like **the**, **in**, **and**,..."
   ]
  },
  {
   "cell_type": "markdown",
   "metadata": {},
   "source": [
    "# Compute TF-IDF For The Corpus"
   ]
  },
  {
   "cell_type": "markdown",
   "metadata": {},
   "source": [
    "To give more weight to informative words, we weigh them by their TF-IDF scores."
   ]
  },
  {
   "cell_type": "code",
   "execution_count": 13,
   "metadata": {
    "collapsed": false,
    "jupyter": {
     "outputs_hidden": false
    }
   },
   "outputs": [
    {
     "data": {
      "text/html": [
       "<div>\n",
       "<style scoped>\n",
       "    .dataframe tbody tr th:only-of-type {\n",
       "        vertical-align: middle;\n",
       "    }\n",
       "\n",
       "    .dataframe tbody tr th {\n",
       "        vertical-align: top;\n",
       "    }\n",
       "\n",
       "    .dataframe thead th {\n",
       "        text-align: right;\n",
       "    }\n",
       "</style>\n",
       "<table border=\"1\" class=\"dataframe\">\n",
       "  <thead>\n",
       "    <tr style=\"text-align: right;\">\n",
       "      <th></th>\n",
       "      <th>URI</th>\n",
       "      <th>name</th>\n",
       "      <th>text</th>\n",
       "      <th>text_clean</th>\n",
       "      <th>word_count</th>\n",
       "    </tr>\n",
       "  </thead>\n",
       "  <tbody>\n",
       "    <tr>\n",
       "      <th>0</th>\n",
       "      <td>&lt;http://dbpedia.org/resource/Digby_Morrell&gt;</td>\n",
       "      <td>Digby Morrell</td>\n",
       "      <td>digby morrell born 10 october 1979 is a former...</td>\n",
       "      <td>digby morrell born 10 october 1979 is a former...</td>\n",
       "      <td>{'digby': 1, 'morrell': 5, 'born': 1, '10': 1,...</td>\n",
       "    </tr>\n",
       "    <tr>\n",
       "      <th>1</th>\n",
       "      <td>&lt;http://dbpedia.org/resource/Alfred_J._Lewy&gt;</td>\n",
       "      <td>Alfred J. Lewy</td>\n",
       "      <td>alfred j lewy aka sandy lewy graduated from un...</td>\n",
       "      <td>alfred j lewy aka sandy lewy graduated from un...</td>\n",
       "      <td>{'alfred': 1, 'j': 1, 'lewy': 3, 'aka': 1, 'sa...</td>\n",
       "    </tr>\n",
       "    <tr>\n",
       "      <th>2</th>\n",
       "      <td>&lt;http://dbpedia.org/resource/Harpdog_Brown&gt;</td>\n",
       "      <td>Harpdog Brown</td>\n",
       "      <td>harpdog brown is a singer and harmonica player...</td>\n",
       "      <td>harpdog brown is a singer and harmonica player...</td>\n",
       "      <td>{'harpdog': 2, 'brown': 2, 'is': 7, 'a': 7, 's...</td>\n",
       "    </tr>\n",
       "    <tr>\n",
       "      <th>3</th>\n",
       "      <td>&lt;http://dbpedia.org/resource/Franz_Rottensteiner&gt;</td>\n",
       "      <td>Franz Rottensteiner</td>\n",
       "      <td>franz rottensteiner born in waidmannsfeld lowe...</td>\n",
       "      <td>franz rottensteiner born in waidmannsfeld lowe...</td>\n",
       "      <td>{'franz': 1, 'rottensteiner': 3, 'born': 1, 'i...</td>\n",
       "    </tr>\n",
       "    <tr>\n",
       "      <th>4</th>\n",
       "      <td>&lt;http://dbpedia.org/resource/G-Enka&gt;</td>\n",
       "      <td>G-Enka</td>\n",
       "      <td>henry krvits born 30 december 1974 in tallinn ...</td>\n",
       "      <td>henry krvits born 30 december 1974 in tallinn ...</td>\n",
       "      <td>{'henry': 1, 'krvits': 1, 'born': 1, '30': 1, ...</td>\n",
       "    </tr>\n",
       "  </tbody>\n",
       "</table>\n",
       "</div>"
      ],
      "text/plain": [
       "                                                 URI                 name  \\\n",
       "0        <http://dbpedia.org/resource/Digby_Morrell>        Digby Morrell   \n",
       "1       <http://dbpedia.org/resource/Alfred_J._Lewy>       Alfred J. Lewy   \n",
       "2        <http://dbpedia.org/resource/Harpdog_Brown>        Harpdog Brown   \n",
       "3  <http://dbpedia.org/resource/Franz_Rottensteiner>  Franz Rottensteiner   \n",
       "4               <http://dbpedia.org/resource/G-Enka>               G-Enka   \n",
       "\n",
       "                                                text  \\\n",
       "0  digby morrell born 10 october 1979 is a former...   \n",
       "1  alfred j lewy aka sandy lewy graduated from un...   \n",
       "2  harpdog brown is a singer and harmonica player...   \n",
       "3  franz rottensteiner born in waidmannsfeld lowe...   \n",
       "4  henry krvits born 30 december 1974 in tallinn ...   \n",
       "\n",
       "                                          text_clean  \\\n",
       "0  digby morrell born 10 october 1979 is a former...   \n",
       "1  alfred j lewy aka sandy lewy graduated from un...   \n",
       "2  harpdog brown is a singer and harmonica player...   \n",
       "3  franz rottensteiner born in waidmannsfeld lowe...   \n",
       "4  henry krvits born 30 december 1974 in tallinn ...   \n",
       "\n",
       "                                          word_count  \n",
       "0  {'digby': 1, 'morrell': 5, 'born': 1, '10': 1,...  \n",
       "1  {'alfred': 1, 'j': 1, 'lewy': 3, 'aka': 1, 'sa...  \n",
       "2  {'harpdog': 2, 'brown': 2, 'is': 7, 'a': 7, 's...  \n",
       "3  {'franz': 1, 'rottensteiner': 3, 'born': 1, 'i...  \n",
       "4  {'henry': 1, 'krvits': 1, 'born': 1, '30': 1, ...  "
      ]
     },
     "execution_count": 13,
     "metadata": {},
     "output_type": "execute_result"
    }
   ],
   "source": [
    "# people['word_count'] = graphlab.text_analytics.count_words(people['text'])\n",
    "\n",
    "people['word_count'] = people['text_clean'].apply(word_count)\n",
    "\n",
    "people.head()"
   ]
  },
  {
   "cell_type": "code",
   "execution_count": 55,
   "metadata": {},
   "outputs": [],
   "source": [
    "######################\n",
    "# Single Record Test #\n",
    "######################\n",
    "\n",
    "# Import scikit learn text feature extraction\n",
    "# TfidfVectorizer is equivalent to CountVectorizer followed by TfidfTransformer\n",
    "from sklearn.feature_extraction.text import TfidfVectorizer\n",
    "\n",
    "# Create an instance of the tf-idf vectorizer\n",
    "tfidf_vectorizer = TfidfVectorizer()\n",
    "# Learn vocabulary and idf, return document-term matrix\n",
    "# The `fit_transform` function takes `raw_documents` of type `iterable` such as a list of string or column of a DataFrame\n",
    "term_matrix = tfidf_vectorizer.fit_transform(obama['text_clean'])\n",
    "\n",
    "# Debug\n",
    "# print(\"Term Matrix:\\n{}\".format(term_matrix))\n",
    "\n",
    "# Get a `feature` to `term` map from `tfidf_vectorizer` attribute of `vocabulary_`\n",
    "# The attribute `vocabulary_` returns a mapping of `term` to `feature` indices\n",
    "# Reverse the dictionary `key` and `value`\n",
    "feature_term_map = {item[1]:item[0] for item in tfidf_vectorizer.vocabulary_.items()}\n",
    "\n",
    "# Debug\n",
    "# print(\"Feature To Term Map:\\n{}\".format(list(feature_term_map.items())[:20]))\n",
    "\n",
    "# Create a list to store the tf-idf\n",
    "tfidf_list = []\n",
    "# Loop through each row in `term_matrix`\n",
    "for row in term_matrix:\n",
    "    # Build tf-idf for each document, by mapping `term_matrix` value to `feature_term_map` value\n",
    "    # Unpack `row.indices` and `row.data` into `(column, value)` tuple\n",
    "    # Map `column` to `feature_term_map` as key, and `value` for the `tfidf_list`\n",
    "    # Note: return only word(s) of non zero value for a specific document\n",
    "    tfidf_list.append({feature_term_map[column]:value for (column, value) in zip(row.indices, row.data)})\n",
    "    \n",
    "# Debug\n",
    "# print(\"TF-IDF:\\n{}\".format(tfidf_list))"
   ]
  },
  {
   "cell_type": "code",
   "execution_count": 14,
   "metadata": {
    "collapsed": false,
    "jupyter": {
     "outputs_hidden": false
    }
   },
   "outputs": [],
   "source": [
    "# tfidf = graphlab.text_analytics.tf_idf(people['word_count'])\n",
    "\n",
    "# Earlier versions of GraphLab Create returned an SFrame rather than a single SArray\n",
    "# This notebook was created using Graphlab Create version 1.7.1\n",
    "# if graphlab.version <= '1.6.1':\n",
    "#     tfidf = tfidf['docs']\n",
    "\n",
    "# tfidf\n",
    "\n",
    "# Import scikit learn text feature extraction\n",
    "# TfidfVectorizer is equivalent to CountVectorizer followed by TfidfTransformer\n",
    "from sklearn.feature_extraction.text import TfidfVectorizer\n",
    "\n",
    "# Create an instance of the tf-idf vectorizer\n",
    "tfidf_vectorizer = TfidfVectorizer()\n",
    "# Learn vocabulary and idf, return document-term matrix\n",
    "# The `fit_transform` function takes `raw_documents` of type `iterable` such as a list of string or column of a DataFrame\n",
    "term_matrix = tfidf_vectorizer.fit_transform(people['text_clean'])\n",
    "\n",
    "# Get a `feature` to `term` map from `tfidf_vectorizer` attribute of `vocabulary_`\n",
    "# The attribute `vocabulary_` returns a mapping of `term` to `feature` indices\n",
    "# Reverse the dictionary `key` and `value`\n",
    "feature_term_map = {item[1]:item[0] for item in tfidf_vectorizer.vocabulary_.items()}\n",
    "\n",
    "# print(\"Feature To Term Map:\\n{}\".format(list(feature_term_map.items())[:20]))\n",
    "\n",
    "# Create a list to store the tf-idf\n",
    "tfidf_list = []\n",
    "# Loop through each row in `term_matrix`\n",
    "for row in term_matrix:\n",
    "    # Build tf-idf for each document, by mapping `term_matrix` value to `feature_term_map` value\n",
    "    # Unpack `row.indices` and `row.data` into `(column, value)` tuple\n",
    "    # Map `column` to `feature_term_map` as key, and `value` for the `tfidf_list`\n",
    "    # Note: return only word(s) of non zero value for a specific document\n",
    "    tfidf_list.append({feature_term_map[column]:value for (column, value) in zip(row.indices, row.data)})\n",
    "\n",
    "# print(\"TF-IDF:\\n{}\".format(tfidf_list[0]))"
   ]
  },
  {
   "cell_type": "code",
   "execution_count": 31,
   "metadata": {},
   "outputs": [
    {
     "data": {
      "text/html": [
       "<div>\n",
       "<style scoped>\n",
       "    .dataframe tbody tr th:only-of-type {\n",
       "        vertical-align: middle;\n",
       "    }\n",
       "\n",
       "    .dataframe tbody tr th {\n",
       "        vertical-align: top;\n",
       "    }\n",
       "\n",
       "    .dataframe thead th {\n",
       "        text-align: right;\n",
       "    }\n",
       "</style>\n",
       "<table border=\"1\" class=\"dataframe\">\n",
       "  <thead>\n",
       "    <tr style=\"text-align: right;\">\n",
       "      <th></th>\n",
       "      <th>id</th>\n",
       "      <th>name</th>\n",
       "      <th>cosine</th>\n",
       "    </tr>\n",
       "  </thead>\n",
       "  <tbody>\n",
       "    <tr>\n",
       "      <th>0</th>\n",
       "      <td>35817</td>\n",
       "      <td>Barack Obama</td>\n",
       "      <td>0.000000</td>\n",
       "    </tr>\n",
       "    <tr>\n",
       "      <th>1</th>\n",
       "      <td>24478</td>\n",
       "      <td>Joe Biden</td>\n",
       "      <td>0.570781</td>\n",
       "    </tr>\n",
       "    <tr>\n",
       "      <th>2</th>\n",
       "      <td>57108</td>\n",
       "      <td>Hillary Rodham Clinton</td>\n",
       "      <td>0.615934</td>\n",
       "    </tr>\n",
       "    <tr>\n",
       "      <th>3</th>\n",
       "      <td>38376</td>\n",
       "      <td>Samantha Power</td>\n",
       "      <td>0.624993</td>\n",
       "    </tr>\n",
       "    <tr>\n",
       "      <th>4</th>\n",
       "      <td>38714</td>\n",
       "      <td>Eric Stern (politician)</td>\n",
       "      <td>0.649765</td>\n",
       "    </tr>\n",
       "    <tr>\n",
       "      <th>5</th>\n",
       "      <td>28447</td>\n",
       "      <td>George W. Bush</td>\n",
       "      <td>0.658687</td>\n",
       "    </tr>\n",
       "    <tr>\n",
       "      <th>6</th>\n",
       "      <td>39357</td>\n",
       "      <td>John McCain</td>\n",
       "      <td>0.661681</td>\n",
       "    </tr>\n",
       "    <tr>\n",
       "      <th>7</th>\n",
       "      <td>48693</td>\n",
       "      <td>Artur Davis</td>\n",
       "      <td>0.666942</td>\n",
       "    </tr>\n",
       "    <tr>\n",
       "      <th>8</th>\n",
       "      <td>18827</td>\n",
       "      <td>Henry Waxman</td>\n",
       "      <td>0.670205</td>\n",
       "    </tr>\n",
       "    <tr>\n",
       "      <th>9</th>\n",
       "      <td>46811</td>\n",
       "      <td>Jeff Sessions</td>\n",
       "      <td>0.672427</td>\n",
       "    </tr>\n",
       "  </tbody>\n",
       "</table>\n",
       "</div>"
      ],
      "text/plain": [
       "      id                     name    cosine\n",
       "0  35817             Barack Obama  0.000000\n",
       "1  24478                Joe Biden  0.570781\n",
       "2  57108   Hillary Rodham Clinton  0.615934\n",
       "3  38376           Samantha Power  0.624993\n",
       "4  38714  Eric Stern (politician)  0.649765\n",
       "5  28447           George W. Bush  0.658687\n",
       "6  39357              John McCain  0.661681\n",
       "7  48693              Artur Davis  0.666942\n",
       "8  18827             Henry Waxman  0.670205\n",
       "9  46811            Jeff Sessions  0.672427"
      ]
     },
     "execution_count": 31,
     "metadata": {},
     "output_type": "execute_result"
    }
   ],
   "source": [
    "################\n",
    "# tfidf Sample #\n",
    "################\n",
    "\n",
    "# Import scikit learn text feature extraction\n",
    "# TfidfVectorizer is equivalent to CountVectorizer followed by TfidfTransformer\n",
    "from sklearn.feature_extraction.text import TfidfVectorizer\n",
    "# Import `NearestNeighbors` for classifier implementing the k-nearest neighbors vote\n",
    "from sklearn.neighbors import NearestNeighbors\n",
    "\n",
    "# Create an instance of the tf-idf vectorizer\n",
    "tfidf_vectorizer = TfidfVectorizer()\n",
    "# Learn vocabulary and idf, return document-term matrix\n",
    "# The `fit_transform` function takes `raw_documents` of type `iterable` such as a list of string or column of a DataFrame\n",
    "term_matrix = tfidf_vectorizer.fit_transform(people['text'])\n",
    "\n",
    "# Create a k-nearest neighbor model with the `cosine` metric and `brute` algorithm\n",
    "knn_neighbor_cosine = NearestNeighbors(metric='cosine', algorithm='brute')\n",
    "# Fit the k-nearest neighbor model\n",
    "# Learn a vocabulary dictionary of all tokens in the raw documents using the `term_matrix`\n",
    "knn_neighbor_cosine.fit(term_matrix)\n",
    "\n",
    "# Get the `index` number of Barack Obama\n",
    "obama_index = people[people['name'] == 'Barack Obama'].index[0]\n",
    "\n",
    "# Find the k-nearest (10) neighbor of Barack Obama\n",
    "# This is based on the counter vectorizer\n",
    "cosine, indice = knn_neighbor_cosine.kneighbors(term_matrix[obama_index], n_neighbors=10)\n",
    "\n",
    "cosine_neighbor = pd.DataFrame({'cosine': cosine.flatten(), 'id': indice.flatten()})\n",
    "obama_nearest_df = (people.merge(cosine_neighbor, right_on = 'id', left_index = True).sort_values('cosine')[['id', 'name', 'cosine']])\n",
    "obama_nearest_df"
   ]
  },
  {
   "cell_type": "code",
   "execution_count": 15,
   "metadata": {
    "collapsed": false,
    "jupyter": {
     "outputs_hidden": false
    }
   },
   "outputs": [
    {
     "data": {
      "text/html": [
       "<div>\n",
       "<style scoped>\n",
       "    .dataframe tbody tr th:only-of-type {\n",
       "        vertical-align: middle;\n",
       "    }\n",
       "\n",
       "    .dataframe tbody tr th {\n",
       "        vertical-align: top;\n",
       "    }\n",
       "\n",
       "    .dataframe thead th {\n",
       "        text-align: right;\n",
       "    }\n",
       "</style>\n",
       "<table border=\"1\" class=\"dataframe\">\n",
       "  <thead>\n",
       "    <tr style=\"text-align: right;\">\n",
       "      <th></th>\n",
       "      <th>URI</th>\n",
       "      <th>name</th>\n",
       "      <th>text</th>\n",
       "      <th>text_clean</th>\n",
       "      <th>word_count</th>\n",
       "      <th>tfidf</th>\n",
       "    </tr>\n",
       "  </thead>\n",
       "  <tbody>\n",
       "    <tr>\n",
       "      <th>0</th>\n",
       "      <td>&lt;http://dbpedia.org/resource/Digby_Morrell&gt;</td>\n",
       "      <td>Digby Morrell</td>\n",
       "      <td>digby morrell born 10 october 1979 is a former...</td>\n",
       "      <td>digby morrell born 10 october 1979 is a former...</td>\n",
       "      <td>{'digby': 1, 'morrell': 5, 'born': 1, '10': 1,...</td>\n",
       "      <td>{'melbourne': 0.04943637764477019, 'college': ...</td>\n",
       "    </tr>\n",
       "    <tr>\n",
       "      <th>1</th>\n",
       "      <td>&lt;http://dbpedia.org/resource/Alfred_J._Lewy&gt;</td>\n",
       "      <td>Alfred J. Lewy</td>\n",
       "      <td>alfred j lewy aka sandy lewy graduated from un...</td>\n",
       "      <td>alfred j lewy aka sandy lewy graduated from un...</td>\n",
       "      <td>{'alfred': 1, 'j': 1, 'lewy': 3, 'aka': 1, 'sa...</td>\n",
       "      <td>{'every': 0.038317651977468975, 'capsule': 0.0...</td>\n",
       "    </tr>\n",
       "    <tr>\n",
       "      <th>2</th>\n",
       "      <td>&lt;http://dbpedia.org/resource/Harpdog_Brown&gt;</td>\n",
       "      <td>Harpdog Brown</td>\n",
       "      <td>harpdog brown is a singer and harmonica player...</td>\n",
       "      <td>harpdog brown is a singer and harmonica player...</td>\n",
       "      <td>{'harpdog': 2, 'brown': 2, 'is': 7, 'a': 7, 's...</td>\n",
       "      <td>{'society': 0.039919477247877484, 'hamilton': ...</td>\n",
       "    </tr>\n",
       "    <tr>\n",
       "      <th>3</th>\n",
       "      <td>&lt;http://dbpedia.org/resource/Franz_Rottensteiner&gt;</td>\n",
       "      <td>Franz Rottensteiner</td>\n",
       "      <td>franz rottensteiner born in waidmannsfeld lowe...</td>\n",
       "      <td>franz rottensteiner born in waidmannsfeld lowe...</td>\n",
       "      <td>{'franz': 1, 'rottensteiner': 3, 'born': 1, 'i...</td>\n",
       "      <td>{'kurdlawitzpreis': 0.08928283865693797, 'spec...</td>\n",
       "    </tr>\n",
       "    <tr>\n",
       "      <th>4</th>\n",
       "      <td>&lt;http://dbpedia.org/resource/G-Enka&gt;</td>\n",
       "      <td>G-Enka</td>\n",
       "      <td>henry krvits born 30 december 1974 in tallinn ...</td>\n",
       "      <td>henry krvits born 30 december 1974 in tallinn ...</td>\n",
       "      <td>{'henry': 1, 'krvits': 1, 'born': 1, '30': 1, ...</td>\n",
       "      <td>{'curtis': 0.05258270131463223, 'promo': 0.067...</td>\n",
       "    </tr>\n",
       "  </tbody>\n",
       "</table>\n",
       "</div>"
      ],
      "text/plain": [
       "                                                 URI                 name  \\\n",
       "0        <http://dbpedia.org/resource/Digby_Morrell>        Digby Morrell   \n",
       "1       <http://dbpedia.org/resource/Alfred_J._Lewy>       Alfred J. Lewy   \n",
       "2        <http://dbpedia.org/resource/Harpdog_Brown>        Harpdog Brown   \n",
       "3  <http://dbpedia.org/resource/Franz_Rottensteiner>  Franz Rottensteiner   \n",
       "4               <http://dbpedia.org/resource/G-Enka>               G-Enka   \n",
       "\n",
       "                                                text  \\\n",
       "0  digby morrell born 10 october 1979 is a former...   \n",
       "1  alfred j lewy aka sandy lewy graduated from un...   \n",
       "2  harpdog brown is a singer and harmonica player...   \n",
       "3  franz rottensteiner born in waidmannsfeld lowe...   \n",
       "4  henry krvits born 30 december 1974 in tallinn ...   \n",
       "\n",
       "                                          text_clean  \\\n",
       "0  digby morrell born 10 october 1979 is a former...   \n",
       "1  alfred j lewy aka sandy lewy graduated from un...   \n",
       "2  harpdog brown is a singer and harmonica player...   \n",
       "3  franz rottensteiner born in waidmannsfeld lowe...   \n",
       "4  henry krvits born 30 december 1974 in tallinn ...   \n",
       "\n",
       "                                          word_count  \\\n",
       "0  {'digby': 1, 'morrell': 5, 'born': 1, '10': 1,...   \n",
       "1  {'alfred': 1, 'j': 1, 'lewy': 3, 'aka': 1, 'sa...   \n",
       "2  {'harpdog': 2, 'brown': 2, 'is': 7, 'a': 7, 's...   \n",
       "3  {'franz': 1, 'rottensteiner': 3, 'born': 1, 'i...   \n",
       "4  {'henry': 1, 'krvits': 1, 'born': 1, '30': 1, ...   \n",
       "\n",
       "                                               tfidf  \n",
       "0  {'melbourne': 0.04943637764477019, 'college': ...  \n",
       "1  {'every': 0.038317651977468975, 'capsule': 0.0...  \n",
       "2  {'society': 0.039919477247877484, 'hamilton': ...  \n",
       "3  {'kurdlawitzpreis': 0.08928283865693797, 'spec...  \n",
       "4  {'curtis': 0.05258270131463223, 'promo': 0.067...  "
      ]
     },
     "execution_count": 15,
     "metadata": {},
     "output_type": "execute_result"
    }
   ],
   "source": [
    "people['tfidf'] = tfidf_list\n",
    "people.head()"
   ]
  },
  {
   "cell_type": "markdown",
   "metadata": {},
   "source": [
    "## Examine The TF-IDF For The Obama Article"
   ]
  },
  {
   "cell_type": "code",
   "execution_count": 16,
   "metadata": {},
   "outputs": [],
   "source": [
    "obama_tfidf = people[people['name'] == 'Barack Obama']"
   ]
  },
  {
   "cell_type": "code",
   "execution_count": 17,
   "metadata": {
    "collapsed": false,
    "jupyter": {
     "outputs_hidden": false
    }
   },
   "outputs": [
    {
     "data": {
      "text/html": [
       "<div>\n",
       "<style scoped>\n",
       "    .dataframe tbody tr th:only-of-type {\n",
       "        vertical-align: middle;\n",
       "    }\n",
       "\n",
       "    .dataframe tbody tr th {\n",
       "        vertical-align: top;\n",
       "    }\n",
       "\n",
       "    .dataframe thead th {\n",
       "        text-align: right;\n",
       "    }\n",
       "</style>\n",
       "<table border=\"1\" class=\"dataframe\">\n",
       "  <thead>\n",
       "    <tr style=\"text-align: right;\">\n",
       "      <th></th>\n",
       "      <th>word</th>\n",
       "      <th>tfidf</th>\n",
       "    </tr>\n",
       "  </thead>\n",
       "  <tbody>\n",
       "    <tr>\n",
       "      <th>98</th>\n",
       "      <td>obama</td>\n",
       "      <td>0.365016</td>\n",
       "    </tr>\n",
       "    <tr>\n",
       "      <th>266</th>\n",
       "      <td>the</td>\n",
       "      <td>0.279322</td>\n",
       "    </tr>\n",
       "    <tr>\n",
       "      <th>92</th>\n",
       "      <td>act</td>\n",
       "      <td>0.249088</td>\n",
       "    </tr>\n",
       "    <tr>\n",
       "      <th>264</th>\n",
       "      <td>in</td>\n",
       "      <td>0.209672</td>\n",
       "    </tr>\n",
       "    <tr>\n",
       "      <th>114</th>\n",
       "      <td>iraq</td>\n",
       "      <td>0.151808</td>\n",
       "    </tr>\n",
       "    <tr>\n",
       "      <th>...</th>\n",
       "      <td>...</td>\n",
       "      <td>...</td>\n",
       "    </tr>\n",
       "    <tr>\n",
       "      <th>268</th>\n",
       "      <td>is</td>\n",
       "      <td>0.014350</td>\n",
       "    </tr>\n",
       "    <tr>\n",
       "      <th>216</th>\n",
       "      <td>new</td>\n",
       "      <td>0.013177</td>\n",
       "    </tr>\n",
       "    <tr>\n",
       "      <th>221</th>\n",
       "      <td>which</td>\n",
       "      <td>0.012341</td>\n",
       "    </tr>\n",
       "    <tr>\n",
       "      <th>232</th>\n",
       "      <td>that</td>\n",
       "      <td>0.011600</td>\n",
       "    </tr>\n",
       "    <tr>\n",
       "      <th>256</th>\n",
       "      <td>by</td>\n",
       "      <td>0.009598</td>\n",
       "    </tr>\n",
       "  </tbody>\n",
       "</table>\n",
       "<p>270 rows × 2 columns</p>\n",
       "</div>"
      ],
      "text/plain": [
       "      word     tfidf\n",
       "98   obama  0.365016\n",
       "266    the  0.279322\n",
       "92     act  0.249088\n",
       "264     in  0.209672\n",
       "114   iraq  0.151808\n",
       "..     ...       ...\n",
       "268     is  0.014350\n",
       "216    new  0.013177\n",
       "221  which  0.012341\n",
       "232   that  0.011600\n",
       "256     by  0.009598\n",
       "\n",
       "[270 rows x 2 columns]"
      ]
     },
     "execution_count": 17,
     "metadata": {},
     "output_type": "execute_result"
    }
   ],
   "source": [
    "# obama[['tfidf']].stack('tfidf',new_column_name=['word','tfidf']).sort('tfidf',ascending=False)\n",
    "\n",
    "# Create a DataFrame for the `obama_tfidf`\n",
    "# Convert the `tfidf` column of `obama_tfidf` to a list of tuple\n",
    "# Construct the DataFrame with the `word` and `tfidf` column\n",
    "obama_tfidf_table = pd.DataFrame(list(obama_tfidf['tfidf'].values[0].items()), columns=['word', 'tfidf'])\n",
    "# Sort DataFrame by `tfidf` column\n",
    "obama_tfidf_table.sort_values(['tfidf'], ascending=False)"
   ]
  },
  {
   "cell_type": "markdown",
   "metadata": {},
   "source": [
    "Words with highest TF-IDF are much more informative."
   ]
  },
  {
   "cell_type": "markdown",
   "metadata": {},
   "source": [
    "# Manually Compute Distances Between Few People"
   ]
  },
  {
   "cell_type": "markdown",
   "metadata": {},
   "source": [
    "Let's manually compare the distances between the articles for a few famous people."
   ]
  },
  {
   "cell_type": "code",
   "execution_count": 47,
   "metadata": {},
   "outputs": [],
   "source": [
    "# clinton = people[people['name'] == 'Bill Clinton']"
   ]
  },
  {
   "cell_type": "code",
   "execution_count": 48,
   "metadata": {},
   "outputs": [],
   "source": [
    "# beckham = people[people['name'] == 'David Beckham']"
   ]
  },
  {
   "cell_type": "markdown",
   "metadata": {},
   "source": [
    "## Obama Closer To Clinton Than To Beckham?"
   ]
  },
  {
   "cell_type": "markdown",
   "metadata": {},
   "source": [
    "We will use cosine distance, which is given by\n",
    "\n",
    "`(1-cosine_similarity)`\n",
    "\n",
    "and find that the article about president Obama is closer to the one about former president Clinton than that of footballer David Beckham."
   ]
  },
  {
   "cell_type": "code",
   "execution_count": null,
   "metadata": {
    "collapsed": false,
    "jupyter": {
     "outputs_hidden": false
    }
   },
   "outputs": [],
   "source": [
    "# graphlab.distances.cosine(obama['tfidf'][0],clinton['tfidf'][0])"
   ]
  },
  {
   "cell_type": "code",
   "execution_count": null,
   "metadata": {
    "collapsed": false,
    "jupyter": {
     "outputs_hidden": false
    }
   },
   "outputs": [],
   "source": [
    "# graphlab.distances.cosine(obama['tfidf'][0],beckham['tfidf'][0])"
   ]
  },
  {
   "cell_type": "markdown",
   "metadata": {},
   "source": [
    "# Build Nearest Neighbor Model For Document Retrieval"
   ]
  },
  {
   "cell_type": "markdown",
   "metadata": {},
   "source": [
    "We now create a nearest-neighbors model and apply it to document retrieval."
   ]
  },
  {
   "cell_type": "code",
   "execution_count": 20,
   "metadata": {
    "collapsed": false,
    "jupyter": {
     "outputs_hidden": false
    }
   },
   "outputs": [
    {
     "data": {
      "text/html": [
       "<div>\n",
       "<style scoped>\n",
       "    .dataframe tbody tr th:only-of-type {\n",
       "        vertical-align: middle;\n",
       "    }\n",
       "\n",
       "    .dataframe tbody tr th {\n",
       "        vertical-align: top;\n",
       "    }\n",
       "\n",
       "    .dataframe thead th {\n",
       "        text-align: right;\n",
       "    }\n",
       "</style>\n",
       "<table border=\"1\" class=\"dataframe\">\n",
       "  <thead>\n",
       "    <tr style=\"text-align: right;\">\n",
       "      <th></th>\n",
       "      <th>id</th>\n",
       "      <th>name</th>\n",
       "      <th>distance</th>\n",
       "    </tr>\n",
       "  </thead>\n",
       "  <tbody>\n",
       "    <tr>\n",
       "      <th>0</th>\n",
       "      <td>35817</td>\n",
       "      <td>Barack Obama</td>\n",
       "      <td>0.000000</td>\n",
       "    </tr>\n",
       "    <tr>\n",
       "      <th>1</th>\n",
       "      <td>24478</td>\n",
       "      <td>Joe Biden</td>\n",
       "      <td>33.015148</td>\n",
       "    </tr>\n",
       "    <tr>\n",
       "      <th>2</th>\n",
       "      <td>28447</td>\n",
       "      <td>George W. Bush</td>\n",
       "      <td>34.307434</td>\n",
       "    </tr>\n",
       "    <tr>\n",
       "      <th>3</th>\n",
       "      <td>14754</td>\n",
       "      <td>Mitt Romney</td>\n",
       "      <td>35.791060</td>\n",
       "    </tr>\n",
       "    <tr>\n",
       "      <th>4</th>\n",
       "      <td>35357</td>\n",
       "      <td>Lawrence Summers</td>\n",
       "      <td>36.069378</td>\n",
       "    </tr>\n",
       "    <tr>\n",
       "      <th>5</th>\n",
       "      <td>31423</td>\n",
       "      <td>Walter Mondale</td>\n",
       "      <td>36.249138</td>\n",
       "    </tr>\n",
       "    <tr>\n",
       "      <th>6</th>\n",
       "      <td>13229</td>\n",
       "      <td>Francisco Barrio</td>\n",
       "      <td>36.276714</td>\n",
       "    </tr>\n",
       "    <tr>\n",
       "      <th>7</th>\n",
       "      <td>36364</td>\n",
       "      <td>Don Bonker</td>\n",
       "      <td>36.400549</td>\n",
       "    </tr>\n",
       "    <tr>\n",
       "      <th>8</th>\n",
       "      <td>22745</td>\n",
       "      <td>Wynn Normington Hugh-Jones</td>\n",
       "      <td>36.441734</td>\n",
       "    </tr>\n",
       "    <tr>\n",
       "      <th>9</th>\n",
       "      <td>7660</td>\n",
       "      <td>Refael (Rafi) Benvenisti</td>\n",
       "      <td>36.837481</td>\n",
       "    </tr>\n",
       "  </tbody>\n",
       "</table>\n",
       "</div>"
      ],
      "text/plain": [
       "      id                        name   distance\n",
       "0  35817                Barack Obama   0.000000\n",
       "1  24478                   Joe Biden  33.015148\n",
       "2  28447              George W. Bush  34.307434\n",
       "3  14754                 Mitt Romney  35.791060\n",
       "4  35357            Lawrence Summers  36.069378\n",
       "5  31423              Walter Mondale  36.249138\n",
       "6  13229            Francisco Barrio  36.276714\n",
       "7  36364                  Don Bonker  36.400549\n",
       "8  22745  Wynn Normington Hugh-Jones  36.441734\n",
       "9   7660    Refael (Rafi) Benvenisti  36.837481"
      ]
     },
     "execution_count": 20,
     "metadata": {},
     "output_type": "execute_result"
    }
   ],
   "source": [
    "# knn_model = graphlab.nearest_neighbors.create(people,features=['tfidf'],label='name')\n",
    "\n",
    "# Import `NearestNeighbors` for classifier implementing the k-nearest neighbors vote\n",
    "from sklearn.neighbors import NearestNeighbors\n",
    "# Import `CountVectorizer` for converting a collection of text documents to a matrix of token counts\n",
    "from sklearn.feature_extraction.text import CountVectorizer\n",
    "\n",
    "# Create an instance of the count vectorizer\n",
    "count_vectorizer = CountVectorizer()\n",
    "# Learn the vocabulary dictionary and return document term matrix for the count vectorizer\n",
    "count_matrix = count_vectorizer.fit_transform(people['text_clean'])\n",
    "\n",
    "# Create a k-nearest neighbor model with the `euclidean` metric\n",
    "knn_model = NearestNeighbors(metric='euclidean')\n",
    "# Fit the k-nearest neighbor model\n",
    "# Learn a vocabulary dictionary of all tokens in the raw documents using the `count_matrix`\n",
    "knn_model.fit(count_matrix)\n",
    "# Get the `index` number of Barack Obama\n",
    "obama_index = people[people['name'] == 'Barack Obama'].index[0]\n",
    "# Find the k-nearest (10) neighbor of Barack Obama\n",
    "# This is based on the counter vectorizer\n",
    "distance, indice = knn_model.kneighbors(count_matrix[obama_index], n_neighbors=10)\n",
    "\n",
    "# Create a DataFrame for the `obama_neighbor`\n",
    "obama_neighbor = pd.DataFrame({'distance': distance.flatten(), 'id': indice.flatten()})\n",
    "# Merge `indice` and `distance` with `name` from the `people` DataFrame\n",
    "k_nearest_df = (people.merge(obama_neighbor, right_on='id', left_index=True).sort_values('distance')[['id', 'name', 'distance']])\n",
    "k_nearest_df"
   ]
  },
  {
   "cell_type": "markdown",
   "metadata": {},
   "source": [
    "# Applying The Nearest Neighbors Model For Retrieval"
   ]
  },
  {
   "cell_type": "markdown",
   "metadata": {},
   "source": [
    "## Who Closest To Obama?"
   ]
  },
  {
   "cell_type": "code",
   "execution_count": 63,
   "metadata": {
    "collapsed": false,
    "jupyter": {
     "outputs_hidden": false
    }
   },
   "outputs": [],
   "source": [
    "# knn_model.query(obama)"
   ]
  },
  {
   "cell_type": "markdown",
   "metadata": {},
   "source": [
    "As we can see, president Obama's article is closest to the one about his vice-president Biden, and those of other politicians."
   ]
  },
  {
   "cell_type": "markdown",
   "metadata": {},
   "source": [
    "## Other Examples Document Retrieval"
   ]
  },
  {
   "cell_type": "code",
   "execution_count": 24,
   "metadata": {},
   "outputs": [],
   "source": [
    "# swift = people[people['name'] == 'Taylor Swift']\n",
    "\n",
    "# Get the `index` number of Taylor Swift\n",
    "swift_index = people[people['name'] == 'Taylor Swift'].index[0]\n",
    "\n",
    "# Find the k-nearest (10) neighbor of Taylor Swift\n",
    "# This is based on the counter vectorizer\n",
    "swift_distance, swift_indice = knn_model.kneighbors(count_matrix[swift_index], n_neighbors=10)\n",
    "\n",
    "# Create a DataFrame for the `swift_neighbor`\n",
    "swift_neighbor = pd.DataFrame({'distance': swift_distance.flatten(), 'id': swift_indice.flatten()})\n",
    "\n",
    "# Merge `indice` and `distance` with `name` from the `people` DataFrame\n",
    "swift_nearest_df = (people.merge(swift_neighbor, right_on='id', left_index=True).sort_values('distance')[['id', 'name', 'distance']])"
   ]
  },
  {
   "cell_type": "code",
   "execution_count": 25,
   "metadata": {
    "collapsed": false,
    "jupyter": {
     "outputs_hidden": false
    }
   },
   "outputs": [
    {
     "data": {
      "text/html": [
       "<div>\n",
       "<style scoped>\n",
       "    .dataframe tbody tr th:only-of-type {\n",
       "        vertical-align: middle;\n",
       "    }\n",
       "\n",
       "    .dataframe tbody tr th {\n",
       "        vertical-align: top;\n",
       "    }\n",
       "\n",
       "    .dataframe thead th {\n",
       "        text-align: right;\n",
       "    }\n",
       "</style>\n",
       "<table border=\"1\" class=\"dataframe\">\n",
       "  <thead>\n",
       "    <tr style=\"text-align: right;\">\n",
       "      <th></th>\n",
       "      <th>id</th>\n",
       "      <th>name</th>\n",
       "      <th>distance</th>\n",
       "    </tr>\n",
       "  </thead>\n",
       "  <tbody>\n",
       "    <tr>\n",
       "      <th>0</th>\n",
       "      <td>54264</td>\n",
       "      <td>Taylor Swift</td>\n",
       "      <td>0.000000</td>\n",
       "    </tr>\n",
       "    <tr>\n",
       "      <th>1</th>\n",
       "      <td>56915</td>\n",
       "      <td>Monica (singer)</td>\n",
       "      <td>28.195744</td>\n",
       "    </tr>\n",
       "    <tr>\n",
       "      <th>2</th>\n",
       "      <td>7326</td>\n",
       "      <td>Shania Twain</td>\n",
       "      <td>28.319605</td>\n",
       "    </tr>\n",
       "    <tr>\n",
       "      <th>3</th>\n",
       "      <td>939</td>\n",
       "      <td>Inna</td>\n",
       "      <td>28.337255</td>\n",
       "    </tr>\n",
       "    <tr>\n",
       "      <th>4</th>\n",
       "      <td>35583</td>\n",
       "      <td>Kim Carnes</td>\n",
       "      <td>28.809721</td>\n",
       "    </tr>\n",
       "    <tr>\n",
       "      <th>5</th>\n",
       "      <td>45294</td>\n",
       "      <td>Miranda Lambert</td>\n",
       "      <td>28.844410</td>\n",
       "    </tr>\n",
       "    <tr>\n",
       "      <th>6</th>\n",
       "      <td>18396</td>\n",
       "      <td>Princess (singer)</td>\n",
       "      <td>28.879058</td>\n",
       "    </tr>\n",
       "    <tr>\n",
       "      <th>7</th>\n",
       "      <td>24270</td>\n",
       "      <td>Fuego (producer)</td>\n",
       "      <td>28.913665</td>\n",
       "    </tr>\n",
       "    <tr>\n",
       "      <th>8</th>\n",
       "      <td>16330</td>\n",
       "      <td>Ellie Goulding</td>\n",
       "      <td>28.948230</td>\n",
       "    </tr>\n",
       "    <tr>\n",
       "      <th>9</th>\n",
       "      <td>49309</td>\n",
       "      <td>Ariana Grande</td>\n",
       "      <td>29.034462</td>\n",
       "    </tr>\n",
       "  </tbody>\n",
       "</table>\n",
       "</div>"
      ],
      "text/plain": [
       "      id               name   distance\n",
       "0  54264       Taylor Swift   0.000000\n",
       "1  56915    Monica (singer)  28.195744\n",
       "2   7326       Shania Twain  28.319605\n",
       "3    939               Inna  28.337255\n",
       "4  35583         Kim Carnes  28.809721\n",
       "5  45294    Miranda Lambert  28.844410\n",
       "6  18396  Princess (singer)  28.879058\n",
       "7  24270   Fuego (producer)  28.913665\n",
       "8  16330     Ellie Goulding  28.948230\n",
       "9  49309      Ariana Grande  29.034462"
      ]
     },
     "execution_count": 25,
     "metadata": {},
     "output_type": "execute_result"
    }
   ],
   "source": [
    "# knn_model.query(swift)\n",
    "swift_nearest_df"
   ]
  },
  {
   "cell_type": "code",
   "execution_count": 26,
   "metadata": {},
   "outputs": [],
   "source": [
    "# jolie = people[people['name'] == 'Angelina Jolie']\n",
    "\n",
    "# Get the `index` number of Angelina Jolie\n",
    "jolie_index = people[people['name'] == 'Angelina Jolie'].index[0]\n",
    "\n",
    "# Find the k-nearest (10) neighbor of Taylor Swift\n",
    "# This is based on the counter vectorizer\n",
    "jolie_distance, jolie_indice = knn_model.kneighbors(count_matrix[jolie_index], n_neighbors=10)\n",
    "\n",
    "# Create a DataFrame for the `swift_neighbor`\n",
    "jolie_neighbor = pd.DataFrame({'distance': jolie_distance.flatten(), 'id': jolie_indice.flatten()})\n",
    "\n",
    "# Merge `indice` and `distance` with `name` from the `people` DataFrame\n",
    "jolie_nearest_df = (people.merge(jolie_neighbor, right_on='id', left_index=True).sort_values('distance')[['id', 'name', 'distance']])"
   ]
  },
  {
   "cell_type": "code",
   "execution_count": 27,
   "metadata": {
    "collapsed": false,
    "jupyter": {
     "outputs_hidden": false
    }
   },
   "outputs": [
    {
     "data": {
      "text/html": [
       "<div>\n",
       "<style scoped>\n",
       "    .dataframe tbody tr th:only-of-type {\n",
       "        vertical-align: middle;\n",
       "    }\n",
       "\n",
       "    .dataframe tbody tr th {\n",
       "        vertical-align: top;\n",
       "    }\n",
       "\n",
       "    .dataframe thead th {\n",
       "        text-align: right;\n",
       "    }\n",
       "</style>\n",
       "<table border=\"1\" class=\"dataframe\">\n",
       "  <thead>\n",
       "    <tr style=\"text-align: right;\">\n",
       "      <th></th>\n",
       "      <th>id</th>\n",
       "      <th>name</th>\n",
       "      <th>distance</th>\n",
       "    </tr>\n",
       "  </thead>\n",
       "  <tbody>\n",
       "    <tr>\n",
       "      <th>0</th>\n",
       "      <td>39521</td>\n",
       "      <td>Angelina Jolie</td>\n",
       "      <td>0.000000</td>\n",
       "    </tr>\n",
       "    <tr>\n",
       "      <th>1</th>\n",
       "      <td>54362</td>\n",
       "      <td>Konkona Sen Sharma</td>\n",
       "      <td>24.698178</td>\n",
       "    </tr>\n",
       "    <tr>\n",
       "      <th>2</th>\n",
       "      <td>44571</td>\n",
       "      <td>Candice Bergen</td>\n",
       "      <td>24.799194</td>\n",
       "    </tr>\n",
       "    <tr>\n",
       "      <th>4</th>\n",
       "      <td>44992</td>\n",
       "      <td>Julianne Moore</td>\n",
       "      <td>24.979992</td>\n",
       "    </tr>\n",
       "    <tr>\n",
       "      <th>3</th>\n",
       "      <td>52700</td>\n",
       "      <td>Toni Collette</td>\n",
       "      <td>24.979992</td>\n",
       "    </tr>\n",
       "    <tr>\n",
       "      <th>5</th>\n",
       "      <td>48343</td>\n",
       "      <td>Fran Drescher</td>\n",
       "      <td>25.119713</td>\n",
       "    </tr>\n",
       "    <tr>\n",
       "      <th>6</th>\n",
       "      <td>33106</td>\n",
       "      <td>Bette Midler</td>\n",
       "      <td>25.159491</td>\n",
       "    </tr>\n",
       "    <tr>\n",
       "      <th>7</th>\n",
       "      <td>50619</td>\n",
       "      <td>Jessica Chastain</td>\n",
       "      <td>25.475478</td>\n",
       "    </tr>\n",
       "    <tr>\n",
       "      <th>8</th>\n",
       "      <td>36512</td>\n",
       "      <td>Jennifer Connelly</td>\n",
       "      <td>25.514702</td>\n",
       "    </tr>\n",
       "    <tr>\n",
       "      <th>9</th>\n",
       "      <td>52886</td>\n",
       "      <td>Marisa Tomei</td>\n",
       "      <td>25.632011</td>\n",
       "    </tr>\n",
       "  </tbody>\n",
       "</table>\n",
       "</div>"
      ],
      "text/plain": [
       "      id                name   distance\n",
       "0  39521      Angelina Jolie   0.000000\n",
       "1  54362  Konkona Sen Sharma  24.698178\n",
       "2  44571      Candice Bergen  24.799194\n",
       "4  44992      Julianne Moore  24.979992\n",
       "3  52700       Toni Collette  24.979992\n",
       "5  48343       Fran Drescher  25.119713\n",
       "6  33106        Bette Midler  25.159491\n",
       "7  50619    Jessica Chastain  25.475478\n",
       "8  36512   Jennifer Connelly  25.514702\n",
       "9  52886        Marisa Tomei  25.632011"
      ]
     },
     "execution_count": 27,
     "metadata": {},
     "output_type": "execute_result"
    }
   ],
   "source": [
    "# knn_model.query(jolie)\n",
    "jolie_nearest_df"
   ]
  },
  {
   "cell_type": "code",
   "execution_count": null,
   "metadata": {
    "collapsed": true,
    "jupyter": {
     "outputs_hidden": true
    }
   },
   "outputs": [],
   "source": [
    "arnold = people[people['name'] == 'Arnold Schwarzenegger']"
   ]
  },
  {
   "cell_type": "code",
   "execution_count": null,
   "metadata": {
    "collapsed": false,
    "jupyter": {
     "outputs_hidden": false
    }
   },
   "outputs": [],
   "source": [
    "knn_model.query(arnold)"
   ]
  },
  {
   "cell_type": "markdown",
   "metadata": {},
   "source": [
    "# Reference"
   ]
  },
  {
   "cell_type": "markdown",
   "metadata": {},
   "source": [
    "* [Obtain tf-idf Word Weight With sklearn](https://stackoverflow.com/questions/45232671/obtain-tf-idf-weights-of-words-with-sklearn)\n",
    "* [TfidfVectorizer: How Does Vectorizer With Fixed Vocabulary Deal With New Word](https://stackoverflow.com/questions/42068474/tfidfvectorizer-how-does-the-vectorizer-with-fixed-vocab-deal-with-new-words)\n",
    "* [Clustering tf-idf](http://ethen8181.github.io/machine-learning/clustering/tfidf/tfidf.html)"
   ]
  }
 ],
 "metadata": {
  "kernelspec": {
   "display_name": "Python 3.7.7 64-bit ('p3ve-ml': venv)",
   "language": "python",
   "name": "python37764bitp3vemlvenv6526e965120940ac873c7ac174b0a983"
  },
  "language_info": {
   "codemirror_mode": {
    "name": "ipython",
    "version": 3
   },
   "file_extension": ".py",
   "mimetype": "text/x-python",
   "name": "python",
   "nbconvert_exporter": "python",
   "pygments_lexer": "ipython3",
   "version": "3.7.7"
  }
 },
 "nbformat": 4,
 "nbformat_minor": 4
}
